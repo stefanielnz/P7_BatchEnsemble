{
 "cells": [
  {
   "cell_type": "code",
   "execution_count": null,
   "metadata": {},
   "outputs": [],
   "source": [
    "import pandas as pd\n",
    "import ast\n",
    "import matplotlib.pyplot as plt"
   ]
  },
  {
   "cell_type": "code",
   "execution_count": null,
   "metadata": {},
   "outputs": [],
   "source": [
    "# Load files\n",
    "file_paths = [\"data/adam_results.csv\", \"data/adam_results_8.csv\", \"data/sgd_results.csv\", \"data/sgd_results8.csv\", \"data/ivon_results.csv\", \"data/ivon_results_8.csv\"]\n",
    "optimizers = [\"Adam\", \"Adam\", \"SGD\", \"SGD\", \"IVON\", \"IVON\"]\n",
    "\n",
    "# Load data\n",
    "datasets = []\n",
    "for path in file_paths:\n",
    "    data = pd.read_csv(path)\n",
    "    for column in ['train_loss', 'val_loss', 'train_acc', 'val_acc']:\n",
    "        data[column] = data[column].apply(ast.literal_eval)\n",
    "    datasets.append(data)\n",
    "\n",
    "def compare_optimizers_subplots(datasets, optimizers, model_type, ensemble_model_type):\n",
    "    fig, axes = plt.subplots(2, 2, figsize=(14, 10))\n",
    "    metrics = ['train_loss', 'val_loss', 'train_acc', 'val_acc']\n",
    "    titles = [\"Train Loss\", \"Validation Loss\", \"Train Accuracy\", \"Validation Accuracy\"]\n",
    "    ylabels = [\"Loss\", \"Loss\", \"Accuracy (%)\", \"Accuracy (%)\"]\n",
    "\n",
    "    for i, ax in enumerate(axes.flat):\n",
    "        var = metrics[i]\n",
    "        \n",
    "        for data, optimizer in zip(datasets, optimizers):\n",
    "            subset1 = data[data['model_type'] == model_type]\n",
    "            subset2 = data[data['model_type'] == ensemble_model_type]\n",
    "\n",
    "            for _, row in subset1.iterrows():\n",
    "                epochs = range(1, len(row[var]) + 1)\n",
    "                ax.plot(epochs, row[var], label=f\"{optimizer} - {model_type}\")\n",
    "\n",
    "            for _, row in subset2.iterrows():\n",
    "                epochs = range(1, len(row[var]) + 1)\n",
    "                ax.plot(epochs, row[var], label=f\"{optimizer} - {ensemble_model_type}\")\n",
    "\n",
    "        ax.set_title(titles[i], fontsize=12)\n",
    "        ax.set_xlabel(\"Epochs\", fontsize=10)\n",
    "        ax.set_ylabel(ylabels[i], fontsize=10)\n",
    "        ax.legend(fontsize=8, loc='best')\n",
    "    \n",
    "    fig.suptitle(\"Comparison of Optimizers for single network and batchensembles of 8\", fontsize=16)\n",
    "    plt.tight_layout()\n",
    "    plt.show()\n",
    "\n",
    "# Compare models across optimizers\n",
    "# compare_optimizers_subplots(datasets, optimizers, \"simple\", \"batchensemble\")\n",
    "compare_optimizers_subplots(datasets, optimizers, \"complex\", \"batchensemble_complex\")"
   ]
  }
 ],
 "metadata": {
  "kernelspec": {
   "display_name": "venv_DL_clone",
   "language": "python",
   "name": "python3"
  },
  "language_info": {
   "name": "python",
   "version": "3.10.7"
  }
 },
 "nbformat": 4,
 "nbformat_minor": 2
}
